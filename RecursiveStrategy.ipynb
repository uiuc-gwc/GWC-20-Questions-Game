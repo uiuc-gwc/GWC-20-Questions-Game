{
 "cells": [
  {
   "cell_type": "code",
   "execution_count": 5,
   "id": "683925d9",
   "metadata": {},
   "outputs": [],
   "source": [
    "import numpy as np"
   ]
  },
  {
   "cell_type": "code",
   "execution_count": 6,
   "id": "7303fa56",
   "metadata": {},
   "outputs": [],
   "source": [
    "def compute_entropy(arr):\n",
    "    ratio = np.sum(arr)/len(arr)\n",
    "    if ratio == 0 or ratio == 1:\n",
    "        return 0\n",
    "    return -np.log(ratio) * ratio - np.log(1-ratio) * (1-ratio)"
   ]
  },
  {
   "cell_type": "code",
   "execution_count": 7,
   "id": "6578886d",
   "metadata": {},
   "outputs": [],
   "source": [
    "def compute_entropy_table(table):\n",
    "    entropies = []\n",
    "    for j in range(table.shape[1]):\n",
    "        entropies.append(compute_entropy(table[:,j]))\n",
    "    return entropies"
   ]
  },
  {
   "cell_type": "code",
   "execution_count": 9,
   "id": "5472a6c4",
   "metadata": {},
   "outputs": [
    {
     "name": "stdout",
     "output_type": "stream",
     "text": [
      "Random Table\n",
      "[[0 0 0 0 1 0 1 1 1 1]\n",
      " [1 1 1 0 0 0 0 1 0 1]\n",
      " [1 1 1 1 1 1 0 0 0 0]\n",
      " [1 1 1 1 0 0 0 1 0 1]\n",
      " [0 0 1 1 1 1 0 1 1 0]]\n",
      "Entropies\n",
      "[0.67 0.67 0.5  0.67 0.67 0.67 0.5  0.5  0.67 0.67]\n"
     ]
    }
   ],
   "source": [
    "#testing random table\n",
    "randomTable = np.random.randint(2, size=(5,10))\n",
    "entropies = compute_entropy_table(randomTable)\n",
    "print(\"Random Table\")\n",
    "print(randomTable)\n",
    "print(\"Entropies\")\n",
    "print(np.round(entropies,2))"
   ]
  },
  {
   "cell_type": "code",
   "execution_count": null,
   "id": "f74954a1",
   "metadata": {},
   "outputs": [],
   "source": [
    "'''\n",
    "Helper Functions That Need Implementing:\n",
    "1. get_max_index\n",
    "2. subset\n",
    "'''\n",
    "\n",
    "question_order = []\n",
    "#Psuedocode For Computing Question Ordering\n",
    "def overall_recursive_strategy(table):\n",
    "    #First Compute the Entropy for Each Question (Each Column)\n",
    "    \n",
    "    overall_entropy = compute_entropy_table(table)\n",
    "    \n",
    "    if np.sum(overall_entropy) == 0:\n",
    "        #If we cannot divide the table anymore we break\n",
    "        break\n",
    "    \n",
    "    #Next compute the question with the highest entropy\n",
    "    question_col_highest_entropy = get_max_index(overall_entropy)\n",
    "    \n",
    "    #Append to question_order the question we should ask. Note that we need to be careful\n",
    "    #when we finally interpret question_order\n",
    "    question_order.append(question_col_highest_entropy)\n",
    "    \n",
    "    #Divide Table Into Two Pieces\n",
    "    subset_table_yes = subset(table, col_index, 1)\n",
    "    subset_table_no = subset(table, col_index, 0)\n",
    "    \n",
    "    #Proceed recursively\n",
    "    overall_recursive_strategy(subset_table_yes)\n",
    "    overall_recursive_strategy(subset_table_no)"
   ]
  },
  {
   "cell_type": "code",
   "execution_count": null,
   "id": "2f1c6322",
   "metadata": {},
   "outputs": [],
   "source": [
    "#Helper Functions\n",
    "def get_max_index(arr):\n",
    "    #Return the index with maximum value in the array\n",
    "    return None\n",
    "\n",
    "def subset(table, col_index, value):\n",
    "    #subset the table by all rows where the col given by col_index, is equal to value\n",
    "    return None\n",
    "    \n",
    "    "
   ]
  }
 ],
 "metadata": {
  "kernelspec": {
   "display_name": "Python 3 (ipykernel)",
   "language": "python",
   "name": "python3"
  },
  "language_info": {
   "codemirror_mode": {
    "name": "ipython",
    "version": 3
   },
   "file_extension": ".py",
   "mimetype": "text/x-python",
   "name": "python",
   "nbconvert_exporter": "python",
   "pygments_lexer": "ipython3",
   "version": "3.9.16"
  }
 },
 "nbformat": 4,
 "nbformat_minor": 5
}
