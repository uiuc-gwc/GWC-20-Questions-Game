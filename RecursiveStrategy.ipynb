{
 "cells": [
  {
   "cell_type": "code",
   "execution_count": 1,
   "id": "683925d9",
   "metadata": {},
   "outputs": [],
   "source": [
    "import numpy as np"
   ]
  },
  {
   "cell_type": "code",
   "execution_count": 2,
   "id": "7303fa56",
   "metadata": {},
   "outputs": [],
   "source": [
    "def compute_entropy(arr):\n",
    "    ratio = np.sum(arr)/len(arr)\n",
    "    if ratio == 0 or ratio == 1:\n",
    "        return 0\n",
    "    return -np.log2(ratio) * ratio - np.log2(1-ratio) * (1-ratio)"
   ]
  },
  {
   "cell_type": "code",
   "execution_count": 3,
   "id": "25311836",
   "metadata": {},
   "outputs": [],
   "source": [
    "num_of_q = 4\n",
    "num_of_char = 10\n",
    "randomTable = np.random.randint(2, size=(num_of_char,num_of_q))\n",
    "appMe = np.arange(0,num_of_char,dtype='int')\n",
    "randomTable = np.concatenate((appMe[:,None], randomTable),axis=1)"
   ]
  },
  {
   "cell_type": "code",
   "execution_count": 4,
   "id": "6578886d",
   "metadata": {},
   "outputs": [],
   "source": [
    "def compute_entropy_table(table):\n",
    "    entropies = []\n",
    "    for j in range(1, table.shape[1]):\n",
    "        entropies.append(compute_entropy(table[:,j]))\n",
    "    return entropies"
   ]
  },
  {
   "cell_type": "code",
   "execution_count": 5,
   "id": "f74954a1",
   "metadata": {},
   "outputs": [],
   "source": [
    "'''\n",
    "Helper Functions That Need Implementing:\n",
    "1. get_max_index\n",
    "2. subset\n",
    "'''\n",
    "#Helper Functions\n",
    "def get_max_index(arr):\n",
    "    if np.max(arr) == 0:\n",
    "        return None\n",
    "    return np.argmax(arr) + 1\n",
    "\n",
    "def subset(table, col_index, value):\n",
    "    #subset the table by all rows where the col given by col_index, is equal to value\n",
    "    return table[table[:,col_index]==value, :]"
   ]
  },
  {
   "cell_type": "code",
   "execution_count": 6,
   "id": "de634b20",
   "metadata": {},
   "outputs": [],
   "source": [
    "'''\n",
    "Given a table computes the best question to ask\n",
    "'''\n",
    "def give_next_question(table):\n",
    "    entropies = compute_entropy_table(table)\n",
    "    return get_max_index(entropies)  "
   ]
  },
  {
   "cell_type": "code",
   "execution_count": 7,
   "id": "5a9a1381",
   "metadata": {},
   "outputs": [],
   "source": [
    "'''\n",
    "Main function manipulate table\n",
    "'''\n",
    "def compute_next_table(table, question_ind, answer):\n",
    "    #subset the table by rows based on the question and answer\n",
    "    new_table = subset(table, question_ind, answer)\n",
    "    #get rid of the column where we asked the question to avoid asking it again\n",
    "    new_table[:,question_ind] = 0\n",
    "    return new_table"
   ]
  },
  {
   "cell_type": "code",
   "execution_count": 8,
   "id": "959638d1",
   "metadata": {},
   "outputs": [
    {
     "name": "stdout",
     "output_type": "stream",
     "text": [
      "[[0 1 0 1 0]\n",
      " [1 1 0 0 1]\n",
      " [2 1 1 1 0]\n",
      " [3 1 1 1 1]\n",
      " [4 0 0 0 0]\n",
      " [5 1 1 1 1]\n",
      " [6 0 1 0 1]\n",
      " [7 1 0 1 1]\n",
      " [8 1 1 0 1]\n",
      " [9 1 1 0 1]]\n",
      "Question to Answer:  3\n",
      "Answer(0/1): 1\n",
      "[[0 1 0 0 0]\n",
      " [2 1 1 0 0]\n",
      " [3 1 1 0 1]\n",
      " [5 1 1 0 1]\n",
      " [7 1 0 0 1]]\n",
      "Question to Answer:  2\n",
      "Answer(0/1): 1\n",
      "[[2 1 0 0 0]\n",
      " [3 1 0 0 1]\n",
      " [5 1 0 0 1]]\n",
      "Question to Answer:  4\n",
      "Answer(0/1): 1\n",
      "[[3 1 0 0 0]\n",
      " [5 1 0 0 0]]\n"
     ]
    }
   ],
   "source": [
    "table = randomTable\n",
    "print(table)\n",
    "while give_next_question(table) != None and table.shape[0] >= 2:\n",
    "    next_q = give_next_question(table)\n",
    "    print(\"Question to Answer: \", next_q)\n",
    "    ans = int(input(\"Answer(0/1): \"))\n",
    "    table = compute_next_table(table, next_q, ans)\n",
    "    print(table)"
   ]
  },
  {
   "cell_type": "code",
   "execution_count": null,
   "id": "438f1019",
   "metadata": {},
   "outputs": [],
   "source": []
  }
 ],
 "metadata": {
  "kernelspec": {
   "display_name": "Python 3 (ipykernel)",
   "language": "python",
   "name": "python3"
  },
  "language_info": {
   "codemirror_mode": {
    "name": "ipython",
    "version": 3
   },
   "file_extension": ".py",
   "mimetype": "text/x-python",
   "name": "python",
   "nbconvert_exporter": "python",
   "pygments_lexer": "ipython3",
   "version": "3.9.16"
  }
 },
 "nbformat": 4,
 "nbformat_minor": 5
}
